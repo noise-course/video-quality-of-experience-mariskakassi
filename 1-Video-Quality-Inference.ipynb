{
 "cells": [
  {
   "cell_type": "markdown",
   "metadata": {
    "colab_type": "text",
    "id": "zbGBJegvBuXV"
   },
   "source": [
    "# Assignment: Video Quality Inference\n",
    "\n",
    "To this point in the class, you have learned various techniques for leading and analyzing packet captures of various types, generating features from those packet captures, and training and evaluating models using those features.\n",
    "\n",
    "In this assignment, you will put all of this together, using a network traffic trace to train a model to automatically infer video quality of experience from a labeled traffic trace.\n",
    "\n",
    "## Part 1: Warmup\n",
    "\n",
    "The first part of this assignment builds directly on the hands-on activities but extends them slightly.\n",
    "\n",
    "### Extract Features from the Network Traffic\n",
    "\n",
    "Load the `netflix.pcap` file, which is a packet trace that includes network traffic. \n",
    "\n",
    "Click [here](https://github.com/noise-lab/ml-systems/blob/main/docs/notebooks/data/netflix.pcap) to download `netflix.pcap`.\n"
   ]
  },
  {
   "cell_type": "code",
   "execution_count": 1,
   "metadata": {},
   "outputs": [
    {
     "data": {
      "text/html": [
       "<div>\n",
       "<style scoped>\n",
       "    .dataframe tbody tr th:only-of-type {\n",
       "        vertical-align: middle;\n",
       "    }\n",
       "\n",
       "    .dataframe tbody tr th {\n",
       "        vertical-align: top;\n",
       "    }\n",
       "\n",
       "    .dataframe thead th {\n",
       "        text-align: right;\n",
       "    }\n",
       "</style>\n",
       "<table border=\"1\" class=\"dataframe\">\n",
       "  <thead>\n",
       "    <tr style=\"text-align: right;\">\n",
       "      <th></th>\n",
       "      <th>No.</th>\n",
       "      <th>Time</th>\n",
       "      <th>Source</th>\n",
       "      <th>Destination</th>\n",
       "      <th>Protocol</th>\n",
       "      <th>Length</th>\n",
       "      <th>Info</th>\n",
       "    </tr>\n",
       "  </thead>\n",
       "  <tbody>\n",
       "    <tr>\n",
       "      <th>0</th>\n",
       "      <td>1</td>\n",
       "      <td>0.000000</td>\n",
       "      <td>192.168.43.72</td>\n",
       "      <td>128.93.77.234</td>\n",
       "      <td>DNS</td>\n",
       "      <td>77</td>\n",
       "      <td>Standard query 0xed0c A fonts.gstatic.com</td>\n",
       "    </tr>\n",
       "    <tr>\n",
       "      <th>1</th>\n",
       "      <td>2</td>\n",
       "      <td>0.000150</td>\n",
       "      <td>192.168.43.72</td>\n",
       "      <td>128.93.77.234</td>\n",
       "      <td>DNS</td>\n",
       "      <td>77</td>\n",
       "      <td>Standard query 0x301a AAAA fonts.gstatic.com</td>\n",
       "    </tr>\n",
       "    <tr>\n",
       "      <th>2</th>\n",
       "      <td>3</td>\n",
       "      <td>0.004726</td>\n",
       "      <td>192.168.43.72</td>\n",
       "      <td>128.93.77.234</td>\n",
       "      <td>DNS</td>\n",
       "      <td>87</td>\n",
       "      <td>Standard query 0x11d3 A googleads.g.doubleclic...</td>\n",
       "    </tr>\n",
       "    <tr>\n",
       "      <th>3</th>\n",
       "      <td>4</td>\n",
       "      <td>0.006522</td>\n",
       "      <td>192.168.43.72</td>\n",
       "      <td>128.93.77.234</td>\n",
       "      <td>DNS</td>\n",
       "      <td>87</td>\n",
       "      <td>Standard query 0x1284 AAAA googleads.g.doublec...</td>\n",
       "    </tr>\n",
       "    <tr>\n",
       "      <th>4</th>\n",
       "      <td>5</td>\n",
       "      <td>0.011103</td>\n",
       "      <td>192.168.43.72</td>\n",
       "      <td>128.93.77.234</td>\n",
       "      <td>DNS</td>\n",
       "      <td>78</td>\n",
       "      <td>Standard query 0x3432 AAAA ytimg.l.google.com</td>\n",
       "    </tr>\n",
       "    <tr>\n",
       "      <th>5</th>\n",
       "      <td>6</td>\n",
       "      <td>0.012354</td>\n",
       "      <td>192.168.43.72</td>\n",
       "      <td>128.93.77.234</td>\n",
       "      <td>DNS</td>\n",
       "      <td>96</td>\n",
       "      <td>Standard query 0xb756 A r4---sn-gxo5uxg-jqbe.g...</td>\n",
       "    </tr>\n",
       "    <tr>\n",
       "      <th>6</th>\n",
       "      <td>7</td>\n",
       "      <td>0.012474</td>\n",
       "      <td>192.168.43.72</td>\n",
       "      <td>128.93.77.234</td>\n",
       "      <td>DNS</td>\n",
       "      <td>75</td>\n",
       "      <td>Standard query 0x62ab A ssl.gstatic.com</td>\n",
       "    </tr>\n",
       "    <tr>\n",
       "      <th>7</th>\n",
       "      <td>8</td>\n",
       "      <td>0.012567</td>\n",
       "      <td>192.168.43.72</td>\n",
       "      <td>128.93.77.234</td>\n",
       "      <td>DNS</td>\n",
       "      <td>74</td>\n",
       "      <td>Standard query 0x42fb A www.google.com</td>\n",
       "    </tr>\n",
       "    <tr>\n",
       "      <th>8</th>\n",
       "      <td>9</td>\n",
       "      <td>0.319268</td>\n",
       "      <td>128.93.77.234</td>\n",
       "      <td>192.168.43.72</td>\n",
       "      <td>DNS</td>\n",
       "      <td>386</td>\n",
       "      <td>Standard query response 0x11d3 A 216.58.213.162</td>\n",
       "    </tr>\n",
       "    <tr>\n",
       "      <th>9</th>\n",
       "      <td>10</td>\n",
       "      <td>0.319288</td>\n",
       "      <td>192.168.43.72</td>\n",
       "      <td>128.93.77.234</td>\n",
       "      <td>DNS</td>\n",
       "      <td>75</td>\n",
       "      <td>Standard query 0x8756 A www.gstatic.com</td>\n",
       "    </tr>\n",
       "  </tbody>\n",
       "</table>\n",
       "</div>"
      ],
      "text/plain": [
       "   No.      Time         Source    Destination Protocol  Length  \\\n",
       "0    1  0.000000  192.168.43.72  128.93.77.234      DNS      77   \n",
       "1    2  0.000150  192.168.43.72  128.93.77.234      DNS      77   \n",
       "2    3  0.004726  192.168.43.72  128.93.77.234      DNS      87   \n",
       "3    4  0.006522  192.168.43.72  128.93.77.234      DNS      87   \n",
       "4    5  0.011103  192.168.43.72  128.93.77.234      DNS      78   \n",
       "5    6  0.012354  192.168.43.72  128.93.77.234      DNS      96   \n",
       "6    7  0.012474  192.168.43.72  128.93.77.234      DNS      75   \n",
       "7    8  0.012567  192.168.43.72  128.93.77.234      DNS      74   \n",
       "8    9  0.319268  128.93.77.234  192.168.43.72      DNS     386   \n",
       "9   10  0.319288  192.168.43.72  128.93.77.234      DNS      75   \n",
       "\n",
       "                                                Info  \n",
       "0          Standard query 0xed0c A fonts.gstatic.com  \n",
       "1       Standard query 0x301a AAAA fonts.gstatic.com  \n",
       "2  Standard query 0x11d3 A googleads.g.doubleclic...  \n",
       "3  Standard query 0x1284 AAAA googleads.g.doublec...  \n",
       "4      Standard query 0x3432 AAAA ytimg.l.google.com  \n",
       "5  Standard query 0xb756 A r4---sn-gxo5uxg-jqbe.g...  \n",
       "6            Standard query 0x62ab A ssl.gstatic.com  \n",
       "7             Standard query 0x42fb A www.google.com  \n",
       "8    Standard query response 0x11d3 A 216.58.213.162  \n",
       "9            Standard query 0x8756 A www.gstatic.com  "
      ]
     },
     "execution_count": 1,
     "metadata": {},
     "output_type": "execute_result"
    }
   ],
   "source": [
    "import pandas as pd\n",
    "pcap = pd.read_csv(\"data/netfilx.csv\")\n",
    "pcap.head(10)"
   ]
  },
  {
   "cell_type": "markdown",
   "metadata": {
    "colab_type": "text",
    "id": "TOPPsKpYB6PS"
   },
   "source": [
    "### Identifying the Service Type\n",
    "\n",
    "Use the DNS traffic to filter the packet trace for Netflix traffic."
   ]
  },
  {
   "cell_type": "code",
   "execution_count": 2,
   "metadata": {},
   "outputs": [
    {
     "data": {
      "text/html": [
       "<div>\n",
       "<style scoped>\n",
       "    .dataframe tbody tr th:only-of-type {\n",
       "        vertical-align: middle;\n",
       "    }\n",
       "\n",
       "    .dataframe tbody tr th {\n",
       "        vertical-align: top;\n",
       "    }\n",
       "\n",
       "    .dataframe thead th {\n",
       "        text-align: right;\n",
       "    }\n",
       "</style>\n",
       "<table border=\"1\" class=\"dataframe\">\n",
       "  <thead>\n",
       "    <tr style=\"text-align: right;\">\n",
       "      <th></th>\n",
       "      <th>No.</th>\n",
       "      <th>Time</th>\n",
       "      <th>Source</th>\n",
       "      <th>Destination</th>\n",
       "      <th>Protocol</th>\n",
       "      <th>Length</th>\n",
       "      <th>Info</th>\n",
       "    </tr>\n",
       "  </thead>\n",
       "  <tbody>\n",
       "    <tr>\n",
       "      <th>86</th>\n",
       "      <td>87</td>\n",
       "      <td>1.828314</td>\n",
       "      <td>192.168.43.72</td>\n",
       "      <td>128.93.77.234</td>\n",
       "      <td>DNS</td>\n",
       "      <td>75</td>\n",
       "      <td>Standard query 0xb19a A www.netflix.com</td>\n",
       "    </tr>\n",
       "    <tr>\n",
       "      <th>87</th>\n",
       "      <td>88</td>\n",
       "      <td>1.828486</td>\n",
       "      <td>192.168.43.72</td>\n",
       "      <td>128.93.77.234</td>\n",
       "      <td>DNS</td>\n",
       "      <td>78</td>\n",
       "      <td>Standard query 0x3049 A assets.nflxext.com</td>\n",
       "    </tr>\n",
       "    <tr>\n",
       "      <th>88</th>\n",
       "      <td>89</td>\n",
       "      <td>1.828759</td>\n",
       "      <td>192.168.43.72</td>\n",
       "      <td>128.93.77.234</td>\n",
       "      <td>DNS</td>\n",
       "      <td>77</td>\n",
       "      <td>Standard query 0x5f60 A codex.nflxext.com</td>\n",
       "    </tr>\n",
       "    <tr>\n",
       "      <th>89</th>\n",
       "      <td>90</td>\n",
       "      <td>1.828993</td>\n",
       "      <td>192.168.43.72</td>\n",
       "      <td>128.93.77.234</td>\n",
       "      <td>DNS</td>\n",
       "      <td>86</td>\n",
       "      <td>Standard query 0x1f03 A customerevents.netflix...</td>\n",
       "    </tr>\n",
       "    <tr>\n",
       "      <th>90</th>\n",
       "      <td>91</td>\n",
       "      <td>1.829239</td>\n",
       "      <td>192.168.43.72</td>\n",
       "      <td>128.93.77.234</td>\n",
       "      <td>DNS</td>\n",
       "      <td>99</td>\n",
       "      <td>Standard query 0x7776 A ipv4-c001-cdg001-ix.1....</td>\n",
       "    </tr>\n",
       "    <tr>\n",
       "      <th>91</th>\n",
       "      <td>92</td>\n",
       "      <td>1.829530</td>\n",
       "      <td>192.168.43.72</td>\n",
       "      <td>128.93.77.234</td>\n",
       "      <td>DNS</td>\n",
       "      <td>99</td>\n",
       "      <td>Standard query 0x37e9 A ipv4-c024-cdg001-ix.1....</td>\n",
       "    </tr>\n",
       "    <tr>\n",
       "      <th>111</th>\n",
       "      <td>112</td>\n",
       "      <td>2.368868</td>\n",
       "      <td>192.168.43.72</td>\n",
       "      <td>128.93.77.234</td>\n",
       "      <td>DNS</td>\n",
       "      <td>99</td>\n",
       "      <td>Standard query 0x9415 A ipv4-c072-cdg001-ix.1....</td>\n",
       "    </tr>\n",
       "    <tr>\n",
       "      <th>118</th>\n",
       "      <td>119</td>\n",
       "      <td>2.369417</td>\n",
       "      <td>192.168.43.72</td>\n",
       "      <td>128.93.77.234</td>\n",
       "      <td>DNS</td>\n",
       "      <td>84</td>\n",
       "      <td>Standard query 0x6677 A occ-0-56-55.1.nflxso.net</td>\n",
       "    </tr>\n",
       "    <tr>\n",
       "      <th>1010</th>\n",
       "      <td>1011</td>\n",
       "      <td>11.262775</td>\n",
       "      <td>192.168.43.72</td>\n",
       "      <td>128.93.77.234</td>\n",
       "      <td>DNS</td>\n",
       "      <td>81</td>\n",
       "      <td>Standard query 0x5542 A push.prod.netflix.com</td>\n",
       "    </tr>\n",
       "    <tr>\n",
       "      <th>1515</th>\n",
       "      <td>1516</td>\n",
       "      <td>19.918496</td>\n",
       "      <td>192.168.43.72</td>\n",
       "      <td>128.93.77.234</td>\n",
       "      <td>DNS</td>\n",
       "      <td>99</td>\n",
       "      <td>Standard query 0x269f A ipv4-c005-cdg001-ix.1....</td>\n",
       "    </tr>\n",
       "  </tbody>\n",
       "</table>\n",
       "</div>"
      ],
      "text/plain": [
       "       No.       Time         Source    Destination Protocol  Length  \\\n",
       "86      87   1.828314  192.168.43.72  128.93.77.234      DNS      75   \n",
       "87      88   1.828486  192.168.43.72  128.93.77.234      DNS      78   \n",
       "88      89   1.828759  192.168.43.72  128.93.77.234      DNS      77   \n",
       "89      90   1.828993  192.168.43.72  128.93.77.234      DNS      86   \n",
       "90      91   1.829239  192.168.43.72  128.93.77.234      DNS      99   \n",
       "91      92   1.829530  192.168.43.72  128.93.77.234      DNS      99   \n",
       "111    112   2.368868  192.168.43.72  128.93.77.234      DNS      99   \n",
       "118    119   2.369417  192.168.43.72  128.93.77.234      DNS      84   \n",
       "1010  1011  11.262775  192.168.43.72  128.93.77.234      DNS      81   \n",
       "1515  1516  19.918496  192.168.43.72  128.93.77.234      DNS      99   \n",
       "\n",
       "                                                   Info  \n",
       "86              Standard query 0xb19a A www.netflix.com  \n",
       "87           Standard query 0x3049 A assets.nflxext.com  \n",
       "88            Standard query 0x5f60 A codex.nflxext.com  \n",
       "89    Standard query 0x1f03 A customerevents.netflix...  \n",
       "90    Standard query 0x7776 A ipv4-c001-cdg001-ix.1....  \n",
       "91    Standard query 0x37e9 A ipv4-c024-cdg001-ix.1....  \n",
       "111   Standard query 0x9415 A ipv4-c072-cdg001-ix.1....  \n",
       "118    Standard query 0x6677 A occ-0-56-55.1.nflxso.net  \n",
       "1010      Standard query 0x5542 A push.prod.netflix.com  \n",
       "1515  Standard query 0x269f A ipv4-c005-cdg001-ix.1....  "
      ]
     },
     "execution_count": 2,
     "metadata": {},
     "output_type": "execute_result"
    }
   ],
   "source": [
    "import dnslib\n",
    "\n",
    "NF_DOMAINS = ([\"nflxvideo\", \n",
    "              \"netflix\", \n",
    "              \"nflxso\", \n",
    "              \"nflxext\"])\n",
    "\n",
    "# Get the queries and responses that correspond to Netflix domains\n",
    "nfre = '|'.join(NF_DOMAINS)\n",
    "nf_queries = pcap[pcap['Info'].str.contains(nfre, regex=True, na=False) & pcap['Protocol'].str.contains('DNS')]\n",
    "nf_queries.head(10)"
   ]
  },
  {
   "cell_type": "markdown",
   "metadata": {
    "colab_type": "text",
    "id": "0qFV6q2OCCsK"
   },
   "source": [
    "### Generate Statistics\n",
    "\n",
    "Generate statistics and features for the Netflix traffic flows. Use the `netml` library or any other technique that you choose to generate a set of features that you think would be good features for your model. "
   ]
  },
  {
   "cell_type": "code",
   "execution_count": 3,
   "metadata": {},
   "outputs": [
    {
     "name": "stdout",
     "output_type": "stream",
     "text": [
      "Number of Packets: 17\n",
      "Mean Length: 86.70588235294117\n",
      "Median Length: 84.0\n",
      "90th Percentile: 99.0\n"
     ]
    }
   ],
   "source": [
    "num = len(nf_queries)\n",
    "mean = nf_queries['Length'].mean()\n",
    "median = nf_queries['Length'].median()\n",
    "n_pct = nf_queries['Length'].quantile(q=0.9)\n",
    "\n",
    "print(\"Number of Packets: {}\\nMean Length: {}\\nMedian Length: {}\\n90th Percentile: {}\".format(num, mean, median, n_pct))"
   ]
  },
  {
   "cell_type": "code",
   "execution_count": null,
   "metadata": {},
   "outputs": [
    {
     "ename": "ImportError",
     "evalue": "cannot import name 'datasets' from 'netml' (/home/mariskakassi/.local/lib/python3.8/site-packages/netml/__init__.py)",
     "output_type": "error",
     "traceback": [
      "\u001b[0;31m---------------------------------------------------------------------------\u001b[0m",
      "\u001b[0;31mImportError\u001b[0m                               Traceback (most recent call last)",
      "\u001b[0;32m<ipython-input-28-0c08b7d45027>\u001b[0m in \u001b[0;36m<module>\u001b[0;34m\u001b[0m\n\u001b[1;32m      4\u001b[0m \u001b[0;32mfrom\u001b[0m \u001b[0mnetml\u001b[0m\u001b[0;34m.\u001b[0m\u001b[0mpparser\u001b[0m\u001b[0;34m.\u001b[0m\u001b[0mparser\u001b[0m \u001b[0;32mimport\u001b[0m \u001b[0mPCAP\u001b[0m\u001b[0;34m\u001b[0m\u001b[0;34m\u001b[0m\u001b[0m\n\u001b[1;32m      5\u001b[0m \u001b[0;32mfrom\u001b[0m \u001b[0mnetml\u001b[0m\u001b[0;34m.\u001b[0m\u001b[0mutils\u001b[0m\u001b[0;34m.\u001b[0m\u001b[0mtool\u001b[0m \u001b[0;32mimport\u001b[0m \u001b[0mdump_data\u001b[0m\u001b[0;34m,\u001b[0m \u001b[0mload_data\u001b[0m\u001b[0;34m\u001b[0m\u001b[0;34m\u001b[0m\u001b[0m\n\u001b[0;32m----> 6\u001b[0;31m \u001b[0;32mfrom\u001b[0m \u001b[0mnetml\u001b[0m \u001b[0;32mimport\u001b[0m \u001b[0mdatasets\u001b[0m\u001b[0;34m,\u001b[0m \u001b[0mfeatures\u001b[0m\u001b[0;34m\u001b[0m\u001b[0;34m\u001b[0m\u001b[0m\n\u001b[0m",
      "\u001b[0;31mImportError\u001b[0m: cannot import name 'datasets' from 'netml' (/home/mariskakassi/.local/lib/python3.8/site-packages/netml/__init__.py)"
     ]
    }
   ],
   "source": [
    "from sklearn.feature_extraction import DictVectorizer\n",
    "vec = DictVectorizer"
   ]
  },
  {
   "cell_type": "code",
   "execution_count": null,
   "metadata": {},
   "outputs": [],
   "source": []
  },
  {
   "cell_type": "markdown",
   "metadata": {
    "colab_type": "text",
    "id": "0qFV6q2OCCsK"
   },
   "source": [
    "**Write a brief justification for the features that you have chosen.**"
   ]
  },
  {
   "cell_type": "markdown",
   "metadata": {},
   "source": []
  },
  {
   "cell_type": "markdown",
   "metadata": {
    "colab_type": "text",
    "id": "lBCP_2SBC2xj"
   },
   "source": [
    "### Inferring Segment downloads\n",
    "\n",
    "In addition to the features that you could generate using the `netml` library or similar, add to your feature vector a \"segment downloads rate\" feature, which indicates the number of video segments downloaded for a given time window.\n",
    "\n",
    "Note: If you are using the `netml` library, generating features with `SAMP` style options may be useful, as this option gives you time windows, and you can then simply add the segment download rate to that existing dataframe."
   ]
  },
  {
   "cell_type": "code",
   "execution_count": null,
   "metadata": {},
   "outputs": [],
   "source": []
  },
  {
   "cell_type": "markdown",
   "metadata": {},
   "source": [
    "## Part 2: Video Quality Inference\n",
    "\n",
    "You will now load the complete video dataset from a previous study to train and test models based on these features to automatically infer the quality of a streaming video flow.\n",
    "\n",
    "For this part of the assignment, you will need two pickle files, which we provide for you by running the code below:\n",
    "\n",
    "```\n",
    "\n",
    "!gdown 'https://drive.google.com/uc?id=1N-Cf4dJ3fpak_AWgO05Fopq_XPYLVqdS' -O netflix_session.pkl\n",
    "!gdown 'https://drive.google.com/uc?id=1PHvEID7My6VZXZveCpQYy3lMo9RvMNTI' -O video_dataset.pkl\n",
    "\n",
    "```"
   ]
  },
  {
   "cell_type": "markdown",
   "metadata": {},
   "source": [
    "### Load the File\n",
    "Load the video dataset pickle file."
   ]
  },
  {
   "cell_type": "code",
   "execution_count": null,
   "metadata": {},
   "outputs": [
    {
     "ename": "AttributeError",
     "evalue": "Can't get attribute '_unpickle_block' on <module 'pandas._libs.internals' from '/home/mariskakassi/.local/lib/python3.8/site-packages/pandas/_libs/internals.cpython-38-x86_64-linux-gnu.so'>",
     "output_type": "error",
     "traceback": [
      "\u001b[0;31m---------------------------------------------------------------------------\u001b[0m",
      "\u001b[0;31mAttributeError\u001b[0m                            Traceback (most recent call last)",
      "\u001b[0;32m<ipython-input-19-0fea3d77d2de>\u001b[0m in \u001b[0;36m<module>\u001b[0;34m\u001b[0m\n\u001b[1;32m      3\u001b[0m \u001b[0;34m\u001b[0m\u001b[0m\n\u001b[1;32m      4\u001b[0m \u001b[0;32mwith\u001b[0m \u001b[0mopen\u001b[0m\u001b[0;34m(\u001b[0m\u001b[0;34m\"netflix_dataset.pkl\"\u001b[0m\u001b[0;34m,\u001b[0m \u001b[0;34m\"rb\"\u001b[0m\u001b[0;34m)\u001b[0m \u001b[0;32mas\u001b[0m \u001b[0mf\u001b[0m\u001b[0;34m:\u001b[0m\u001b[0;34m\u001b[0m\u001b[0;34m\u001b[0m\u001b[0m\n\u001b[0;32m----> 5\u001b[0;31m     \u001b[0mobject\u001b[0m \u001b[0;34m=\u001b[0m \u001b[0mpkl\u001b[0m\u001b[0;34m.\u001b[0m\u001b[0mload\u001b[0m\u001b[0;34m(\u001b[0m\u001b[0mf\u001b[0m\u001b[0;34m)\u001b[0m\u001b[0;34m\u001b[0m\u001b[0;34m\u001b[0m\u001b[0m\n\u001b[0m\u001b[1;32m      6\u001b[0m \u001b[0;34m\u001b[0m\u001b[0m\n\u001b[1;32m      7\u001b[0m \u001b[0mdf\u001b[0m \u001b[0;34m=\u001b[0m \u001b[0mpd\u001b[0m\u001b[0;34m.\u001b[0m\u001b[0mDataFrame\u001b[0m\u001b[0;34m(\u001b[0m\u001b[0mobject\u001b[0m\u001b[0;34m)\u001b[0m\u001b[0;34m\u001b[0m\u001b[0;34m\u001b[0m\u001b[0m\n",
      "\u001b[0;31mAttributeError\u001b[0m: Can't get attribute '_unpickle_block' on <module 'pandas._libs.internals' from '/home/mariskakassi/.local/lib/python3.8/site-packages/pandas/_libs/internals.cpython-38-x86_64-linux-gnu.so'>"
     ]
    }
   ],
   "source": [
    "import pickle as pkl\n",
    "import pandas as pd\n",
    "\n",
    "with open(\"netflix_dataset.pkl\", \"rb\") as f:\n",
    "    object = pkl.load(f)\n",
    "# pd.read_pickle(path) // did not work either\n",
    "    \n",
    "df = pd.DataFrame(object)\n",
    "df.head(10)"
   ]
  },
  {
   "cell_type": "code",
   "execution_count": null,
   "metadata": {},
   "outputs": [
    {
     "data": {
      "text/html": [
       "<div>\n",
       "<style scoped>\n",
       "    .dataframe tbody tr th:only-of-type {\n",
       "        vertical-align: middle;\n",
       "    }\n",
       "\n",
       "    .dataframe tbody tr th {\n",
       "        vertical-align: top;\n",
       "    }\n",
       "\n",
       "    .dataframe thead th {\n",
       "        text-align: right;\n",
       "    }\n",
       "</style>\n",
       "<table border=\"1\" class=\"dataframe\">\n",
       "  <thead>\n",
       "    <tr style=\"text-align: right;\">\n",
       "      <th></th>\n",
       "      <th>Unnamed: 0</th>\n",
       "      <th>10_EWMA_chunksizes</th>\n",
       "      <th>10_avg_chunksize</th>\n",
       "      <th>10_chunksizes_50</th>\n",
       "      <th>10_chunksizes_50R</th>\n",
       "      <th>10_chunksizes_75</th>\n",
       "      <th>10_chunksizes_75R</th>\n",
       "      <th>10_chunksizes_85</th>\n",
       "      <th>10_chunksizes_85R</th>\n",
       "      <th>10_chunksizes_90</th>\n",
       "      <th>...</th>\n",
       "      <th>userTwoRetransmit</th>\n",
       "      <th>userUrgFlags</th>\n",
       "      <th>userXRetransmit</th>\n",
       "      <th>userZeroRetransmit</th>\n",
       "      <th>service</th>\n",
       "      <th>startup3.3</th>\n",
       "      <th>startup6.6</th>\n",
       "      <th>startup5</th>\n",
       "      <th>startup10</th>\n",
       "      <th>startup_mc</th>\n",
       "    </tr>\n",
       "  </thead>\n",
       "  <tbody>\n",
       "    <tr>\n",
       "      <th>0</th>\n",
       "      <td>208</td>\n",
       "      <td>[[  4380.        ]\\n [  4380.        ]\\n [ 196...</td>\n",
       "      <td>148947.1</td>\n",
       "      <td>43473.0</td>\n",
       "      <td>43473.0</td>\n",
       "      <td>185098.0</td>\n",
       "      <td>185098.0</td>\n",
       "      <td>361832.3</td>\n",
       "      <td>361832.3</td>\n",
       "      <td>461040.2</td>\n",
       "      <td>...</td>\n",
       "      <td>0.0</td>\n",
       "      <td>0</td>\n",
       "      <td>0.108730</td>\n",
       "      <td>0.557937</td>\n",
       "      <td>netflix</td>\n",
       "      <td>False</td>\n",
       "      <td>False</td>\n",
       "      <td>False</td>\n",
       "      <td>False</td>\n",
       "      <td>12.0</td>\n",
       "    </tr>\n",
       "    <tr>\n",
       "      <th>1</th>\n",
       "      <td>209</td>\n",
       "      <td>[[179260.        ]\\n [130204.        ]\\n [ 496...</td>\n",
       "      <td>91984.2</td>\n",
       "      <td>101882.0</td>\n",
       "      <td>101882.0</td>\n",
       "      <td>122323.0</td>\n",
       "      <td>122323.0</td>\n",
       "      <td>159843.4</td>\n",
       "      <td>159843.4</td>\n",
       "      <td>181011.8</td>\n",
       "      <td>...</td>\n",
       "      <td>0.0</td>\n",
       "      <td>0</td>\n",
       "      <td>0.116865</td>\n",
       "      <td>0.549802</td>\n",
       "      <td>netflix</td>\n",
       "      <td>False</td>\n",
       "      <td>False</td>\n",
       "      <td>False</td>\n",
       "      <td>False</td>\n",
       "      <td>12.0</td>\n",
       "    </tr>\n",
       "    <tr>\n",
       "      <th>2</th>\n",
       "      <td>210</td>\n",
       "      <td>[[317962.        ]\\n [ 83192.4       ]\\n [1708...</td>\n",
       "      <td>147725.0</td>\n",
       "      <td>111373.0</td>\n",
       "      <td>111373.0</td>\n",
       "      <td>224157.0</td>\n",
       "      <td>224157.0</td>\n",
       "      <td>286280.0</td>\n",
       "      <td>286280.0</td>\n",
       "      <td>325845.8</td>\n",
       "      <td>...</td>\n",
       "      <td>0.0</td>\n",
       "      <td>0</td>\n",
       "      <td>0.126852</td>\n",
       "      <td>0.539815</td>\n",
       "      <td>netflix</td>\n",
       "      <td>False</td>\n",
       "      <td>False</td>\n",
       "      <td>False</td>\n",
       "      <td>False</td>\n",
       "      <td>12.0</td>\n",
       "    </tr>\n",
       "    <tr>\n",
       "      <th>3</th>\n",
       "      <td>211</td>\n",
       "      <td>[[396800.        ]\\n [ 98961.6       ]\\n [2469...</td>\n",
       "      <td>246420.6</td>\n",
       "      <td>297522.0</td>\n",
       "      <td>297522.0</td>\n",
       "      <td>330737.5</td>\n",
       "      <td>330737.5</td>\n",
       "      <td>361030.7</td>\n",
       "      <td>361030.7</td>\n",
       "      <td>378404.0</td>\n",
       "      <td>...</td>\n",
       "      <td>0.0</td>\n",
       "      <td>0</td>\n",
       "      <td>0.186111</td>\n",
       "      <td>0.480556</td>\n",
       "      <td>netflix</td>\n",
       "      <td>False</td>\n",
       "      <td>False</td>\n",
       "      <td>False</td>\n",
       "      <td>False</td>\n",
       "      <td>12.0</td>\n",
       "    </tr>\n",
       "    <tr>\n",
       "      <th>4</th>\n",
       "      <td>212</td>\n",
       "      <td>[[325264.        ]\\n [331102.4       ]\\n [3655...</td>\n",
       "      <td>336681.0</td>\n",
       "      <td>354461.0</td>\n",
       "      <td>354461.0</td>\n",
       "      <td>399719.5</td>\n",
       "      <td>399719.5</td>\n",
       "      <td>409866.3</td>\n",
       "      <td>409866.3</td>\n",
       "      <td>414060.0</td>\n",
       "      <td>...</td>\n",
       "      <td>0.0</td>\n",
       "      <td>0</td>\n",
       "      <td>0.194444</td>\n",
       "      <td>0.472222</td>\n",
       "      <td>netflix</td>\n",
       "      <td>False</td>\n",
       "      <td>False</td>\n",
       "      <td>False</td>\n",
       "      <td>False</td>\n",
       "      <td>12.0</td>\n",
       "    </tr>\n",
       "    <tr>\n",
       "      <th>5</th>\n",
       "      <td>213</td>\n",
       "      <td>[[411400.        ]\\n [240875.2       ]\\n [2562...</td>\n",
       "      <td>316355.2</td>\n",
       "      <td>324531.0</td>\n",
       "      <td>324531.0</td>\n",
       "      <td>374899.5</td>\n",
       "      <td>374899.5</td>\n",
       "      <td>399647.0</td>\n",
       "      <td>399647.0</td>\n",
       "      <td>412422.2</td>\n",
       "      <td>...</td>\n",
       "      <td>0.0</td>\n",
       "      <td>0</td>\n",
       "      <td>0.222222</td>\n",
       "      <td>0.444444</td>\n",
       "      <td>netflix</td>\n",
       "      <td>False</td>\n",
       "      <td>False</td>\n",
       "      <td>False</td>\n",
       "      <td>False</td>\n",
       "      <td>12.0</td>\n",
       "    </tr>\n",
       "    <tr>\n",
       "      <th>6</th>\n",
       "      <td>214</td>\n",
       "      <td>[[366138.        ]\\n [299565.2       ]\\n [2201...</td>\n",
       "      <td>381471.4</td>\n",
       "      <td>350079.0</td>\n",
       "      <td>350079.0</td>\n",
       "      <td>490608.5</td>\n",
       "      <td>490608.5</td>\n",
       "      <td>545866.1</td>\n",
       "      <td>545866.1</td>\n",
       "      <td>569370.6</td>\n",
       "      <td>...</td>\n",
       "      <td>0.0</td>\n",
       "      <td>0</td>\n",
       "      <td>0.333333</td>\n",
       "      <td>0.444444</td>\n",
       "      <td>netflix</td>\n",
       "      <td>False</td>\n",
       "      <td>False</td>\n",
       "      <td>False</td>\n",
       "      <td>False</td>\n",
       "      <td>12.0</td>\n",
       "    </tr>\n",
       "    <tr>\n",
       "      <th>7</th>\n",
       "      <td>215</td>\n",
       "      <td>[[198244.        ]\\n [487900.        ]\\n [7132...</td>\n",
       "      <td>488343.0</td>\n",
       "      <td>526009.0</td>\n",
       "      <td>526009.0</td>\n",
       "      <td>601931.0</td>\n",
       "      <td>601931.0</td>\n",
       "      <td>689530.0</td>\n",
       "      <td>689530.0</td>\n",
       "      <td>740338.4</td>\n",
       "      <td>...</td>\n",
       "      <td>0.0</td>\n",
       "      <td>0</td>\n",
       "      <td>0.208333</td>\n",
       "      <td>0.625000</td>\n",
       "      <td>netflix</td>\n",
       "      <td>False</td>\n",
       "      <td>False</td>\n",
       "      <td>False</td>\n",
       "      <td>False</td>\n",
       "      <td>12.0</td>\n",
       "    </tr>\n",
       "    <tr>\n",
       "      <th>8</th>\n",
       "      <td>216</td>\n",
       "      <td>[[198242.        ]\\n [371104.4       ]\\n [5486...</td>\n",
       "      <td>503673.8</td>\n",
       "      <td>599742.0</td>\n",
       "      <td>599742.0</td>\n",
       "      <td>620545.0</td>\n",
       "      <td>620545.0</td>\n",
       "      <td>633539.0</td>\n",
       "      <td>633539.0</td>\n",
       "      <td>641204.4</td>\n",
       "      <td>...</td>\n",
       "      <td>0.0</td>\n",
       "      <td>0</td>\n",
       "      <td>0.305556</td>\n",
       "      <td>0.361111</td>\n",
       "      <td>netflix</td>\n",
       "      <td>False</td>\n",
       "      <td>False</td>\n",
       "      <td>False</td>\n",
       "      <td>False</td>\n",
       "      <td>12.0</td>\n",
       "    </tr>\n",
       "    <tr>\n",
       "      <th>9</th>\n",
       "      <td>217</td>\n",
       "      <td>[[595364.        ]\\n [512436.        ]\\n [2730...</td>\n",
       "      <td>565869.8</td>\n",
       "      <td>615072.0</td>\n",
       "      <td>615072.0</td>\n",
       "      <td>635145.0</td>\n",
       "      <td>635145.0</td>\n",
       "      <td>652448.6</td>\n",
       "      <td>652448.6</td>\n",
       "      <td>695958.2</td>\n",
       "      <td>...</td>\n",
       "      <td>0.0</td>\n",
       "      <td>0</td>\n",
       "      <td>0.416667</td>\n",
       "      <td>0.416667</td>\n",
       "      <td>netflix</td>\n",
       "      <td>False</td>\n",
       "      <td>False</td>\n",
       "      <td>False</td>\n",
       "      <td>False</td>\n",
       "      <td>12.0</td>\n",
       "    </tr>\n",
       "  </tbody>\n",
       "</table>\n",
       "<p>10 rows × 252 columns</p>\n",
       "</div>"
      ],
      "text/plain": [
       "   Unnamed: 0                                 10_EWMA_chunksizes  \\\n",
       "0         208  [[  4380.        ]\\n [  4380.        ]\\n [ 196...   \n",
       "1         209  [[179260.        ]\\n [130204.        ]\\n [ 496...   \n",
       "2         210  [[317962.        ]\\n [ 83192.4       ]\\n [1708...   \n",
       "3         211  [[396800.        ]\\n [ 98961.6       ]\\n [2469...   \n",
       "4         212  [[325264.        ]\\n [331102.4       ]\\n [3655...   \n",
       "5         213  [[411400.        ]\\n [240875.2       ]\\n [2562...   \n",
       "6         214  [[366138.        ]\\n [299565.2       ]\\n [2201...   \n",
       "7         215  [[198244.        ]\\n [487900.        ]\\n [7132...   \n",
       "8         216  [[198242.        ]\\n [371104.4       ]\\n [5486...   \n",
       "9         217  [[595364.        ]\\n [512436.        ]\\n [2730...   \n",
       "\n",
       "   10_avg_chunksize  10_chunksizes_50  10_chunksizes_50R  10_chunksizes_75  \\\n",
       "0          148947.1           43473.0            43473.0          185098.0   \n",
       "1           91984.2          101882.0           101882.0          122323.0   \n",
       "2          147725.0          111373.0           111373.0          224157.0   \n",
       "3          246420.6          297522.0           297522.0          330737.5   \n",
       "4          336681.0          354461.0           354461.0          399719.5   \n",
       "5          316355.2          324531.0           324531.0          374899.5   \n",
       "6          381471.4          350079.0           350079.0          490608.5   \n",
       "7          488343.0          526009.0           526009.0          601931.0   \n",
       "8          503673.8          599742.0           599742.0          620545.0   \n",
       "9          565869.8          615072.0           615072.0          635145.0   \n",
       "\n",
       "   10_chunksizes_75R  10_chunksizes_85  10_chunksizes_85R  10_chunksizes_90  \\\n",
       "0           185098.0          361832.3           361832.3          461040.2   \n",
       "1           122323.0          159843.4           159843.4          181011.8   \n",
       "2           224157.0          286280.0           286280.0          325845.8   \n",
       "3           330737.5          361030.7           361030.7          378404.0   \n",
       "4           399719.5          409866.3           409866.3          414060.0   \n",
       "5           374899.5          399647.0           399647.0          412422.2   \n",
       "6           490608.5          545866.1           545866.1          569370.6   \n",
       "7           601931.0          689530.0           689530.0          740338.4   \n",
       "8           620545.0          633539.0           633539.0          641204.4   \n",
       "9           635145.0          652448.6           652448.6          695958.2   \n",
       "\n",
       "   ...  userTwoRetransmit  userUrgFlags  userXRetransmit  userZeroRetransmit  \\\n",
       "0  ...                0.0             0         0.108730            0.557937   \n",
       "1  ...                0.0             0         0.116865            0.549802   \n",
       "2  ...                0.0             0         0.126852            0.539815   \n",
       "3  ...                0.0             0         0.186111            0.480556   \n",
       "4  ...                0.0             0         0.194444            0.472222   \n",
       "5  ...                0.0             0         0.222222            0.444444   \n",
       "6  ...                0.0             0         0.333333            0.444444   \n",
       "7  ...                0.0             0         0.208333            0.625000   \n",
       "8  ...                0.0             0         0.305556            0.361111   \n",
       "9  ...                0.0             0         0.416667            0.416667   \n",
       "\n",
       "   service  startup3.3  startup6.6  startup5  startup10  startup_mc  \n",
       "0  netflix       False       False     False      False        12.0  \n",
       "1  netflix       False       False     False      False        12.0  \n",
       "2  netflix       False       False     False      False        12.0  \n",
       "3  netflix       False       False     False      False        12.0  \n",
       "4  netflix       False       False     False      False        12.0  \n",
       "5  netflix       False       False     False      False        12.0  \n",
       "6  netflix       False       False     False      False        12.0  \n",
       "7  netflix       False       False     False      False        12.0  \n",
       "8  netflix       False       False     False      False        12.0  \n",
       "9  netflix       False       False     False      False        12.0  \n",
       "\n",
       "[10 rows x 252 columns]"
      ]
     },
     "execution_count": 33,
     "metadata": {},
     "output_type": "execute_result"
    }
   ],
   "source": [
    "import pandas as pd\n",
    "\n",
    "# NOTE: neither read_pickle and pickle.load were working due to version \n",
    "# incompatablities I was unable to resolve. As a sort-of-solution, I wrote the\n",
    "# file \"help.py\" to convert the file into a csv \"netflix_dataset.csv\" and load \n",
    "# it in that way\n",
    "\n",
    "dataset = pd.read_csv(\"netflix_dataset.csv\")\n",
    "dataset.head(10)"
   ]
  },
  {
   "cell_type": "markdown",
   "metadata": {},
   "source": [
    "### Clean the File\n",
    "\n",
    "1. The dataset contains video resolutions that are not valid. Remove entries in the dataset that do not contain a valid video resolution. Valid resolutions are 240, 360, 480, 720, 1080."
   ]
  },
  {
   "cell_type": "code",
   "execution_count": 119,
   "metadata": {},
   "outputs": [
    {
     "name": "stdout",
     "output_type": "stream",
     "text": [
      "Original Dataset Size: 52279\n",
      "Filtered Dataset Size: 49748\n"
     ]
    }
   ],
   "source": [
    "# dataset[\"resolution\"]\n",
    "print(f\"Original Dataset Size: {len(dataset)}\")\n",
    "valid = [240.0, 360.0, 480.0, 720.0, 1080.0]\n",
    "filtered_dataset = dataset.loc[dataset[\"resolution\"].isin(valid)]\n",
    "print(f\"Filtered Dataset Size: {len(filtered_dataset)}\")"
   ]
  },
  {
   "cell_type": "markdown",
   "metadata": {},
   "source": [
    "2. The file also contains columns that are unnecessary (in fact, unhelpful!) for performing predictions. Identify those columns, and remove them."
   ]
  },
  {
   "cell_type": "code",
   "execution_count": 120,
   "metadata": {},
   "outputs": [
    {
     "name": "stdout",
     "output_type": "stream",
     "text": [
      "Original number of rows and columns: (49748, 252)\n",
      "New number of rows and columns: (49748, 223)\n"
     ]
    }
   ],
   "source": [
    "print(f\"Original number of rows and columns: {filtered_dataset.shape}\")\n",
    "dropped_ds = filtered_dataset.drop(\n",
    "                    [\"deployment_session_id\", \"session_id\", \"video_id\", \n",
    "                    \"video_position\", \"home_id\", \"startup_time\", \"startup3.3\", \n",
    "                    \"startup6.6\", \"startup5\", \"startup10\", \"startup_mc\", \n",
    "                    \"serverAckFlags\", \"serverFinFlags\", \"serverRstFlags\", \n",
    "                    \"serverPshFlags\", \"serverSynFlags\", \"serverUrgFlags\", \n",
    "                    \"serverMaxRetransmit\", \"serverMinBytesInFlight\", \n",
    "                    \"serverMinBytesPerPacket\", \"serverMinInterArrivalTime\", \n",
    "                    \"serverMinRetransmit\", \"serverByteCount\", \n",
    "                    \"serverEndBytesPerPacket\", \"serverGoodput\", \n",
    "                    \"serverMaxBytesInFlight\", \"serverMaxBytesPerPacket\", \n",
    "                    \"serverStdBytesInFlight\", \"serverStdBytesPerPacket\"]\n",
    "                    , axis=1)\n",
    "\n",
    "print(f\"New number of rows and columns: {dropped_ds.shape}\")\n"
   ]
  },
  {
   "cell_type": "markdown",
   "metadata": {},
   "source": [
    "**Briefly explain why you removed those columns.**"
   ]
  },
  {
   "cell_type": "markdown",
   "metadata": {},
   "source": [
    "I removed the identifying columns (deployment_session_id\", \"session_id\", \"video_id\", \"video_position\", \"home_id\") because they were relative to the session itself, meaning it's specific to the session itself, making it irrelvent to video quality. I removed all the server assoicated columns because those were all specific to the sever instead of the video quality itself. I think it could be argued whether or not the startup times should be kept, but I decided to remove them because startup time might not be that relevent during playback time."
   ]
  },
  {
   "cell_type": "markdown",
   "metadata": {},
   "source": [
    "### Prepare Your Data\n",
    "\n",
    "Prepare your data matrix, determine your features and labels, and perform a train-test split on your data."
   ]
  },
  {
   "cell_type": "code",
   "execution_count": null,
   "metadata": {},
   "outputs": [
    {
     "name": "stdout",
     "output_type": "stream",
     "text": [
      "<class 'pandas.core.frame.DataFrame'>\n",
      "Int64Index: 49748 entries, 0 to 52277\n",
      "Columns: 223 entries, Unnamed: 0 to service\n",
      "dtypes: bool(2), float64(159), int64(59), object(3)\n",
      "memory usage: 85.6+ MB\n"
     ]
    }
   ],
   "source": [
    "dropped_ds.info()"
   ]
  },
  {
   "cell_type": "code",
   "execution_count": null,
   "metadata": {},
   "outputs": [],
   "source": [
    "# Preparing Data\n",
    "df = dropped_ds.select_dtypes(exclude=['object'])\n",
    "df = df.dropna()\n",
    "\n",
    "# Identifying Features and Label\n",
    "X = df.drop([\"resolution\"], axis=1)\n",
    "y = df[\"resolution\"]\n",
    "\n",
    "from sklearn.model_selection import train_test_split\n",
    "\n",
    "X_train, X_test, y_train, y_test = train_test_split(X, y, test_size=0.2, random_state=42)"
   ]
  },
  {
   "cell_type": "markdown",
   "metadata": {},
   "source": [
    "### Train and Tune Your Model\n",
    "\n",
    "1. Select a model of your choice.\n",
    "2. Train the model using your training data."
   ]
  },
  {
   "cell_type": "code",
   "execution_count": null,
   "metadata": {},
   "outputs": [
    {
     "data": {
      "text/plain": [
       "RandomForestClassifier(n_estimators=10)"
      ]
     },
     "execution_count": 65,
     "metadata": {},
     "output_type": "execute_result"
    }
   ],
   "source": [
    "from sklearn.ensemble import RandomForestClassifier\n",
    "model = RandomForestClassifier(n_estimators=10)\n",
    "# RandomForestClassifier(max_depth=3, random_state=0)\n",
    "model.fit(X_train, y_train)"
   ]
  },
  {
   "cell_type": "markdown",
   "metadata": {},
   "source": [
    "### Tune Your Model\n",
    "\n",
    "Perform hyperparameter tuning to find optimal parameters for your model."
   ]
  },
  {
   "cell_type": "code",
   "execution_count": 69,
   "metadata": {},
   "outputs": [
    {
     "name": "stdout",
     "output_type": "stream",
     "text": [
      "at n=1.00 d=2.00 : 0.70 accuracy with a standard deviation of 0.04\n",
      "at n=1.00 d=3.00 : 0.71 accuracy with a standard deviation of 0.01\n",
      "at n=1.00 d=5.00 : 0.78 accuracy with a standard deviation of 0.02\n",
      "at n=1.00 d=8.00 : 0.83 accuracy with a standard deviation of 0.02\n",
      "at n=3.00 d=2.00 : 0.71 accuracy with a standard deviation of 0.03\n",
      "at n=3.00 d=3.00 : 0.75 accuracy with a standard deviation of 0.02\n",
      "at n=3.00 d=5.00 : 0.82 accuracy with a standard deviation of 0.02\n",
      "at n=3.00 d=8.00 : 0.86 accuracy with a standard deviation of 0.01\n",
      "at n=5.00 d=2.00 : 0.71 accuracy with a standard deviation of 0.01\n",
      "at n=5.00 d=3.00 : 0.77 accuracy with a standard deviation of 0.02\n",
      "at n=5.00 d=5.00 : 0.82 accuracy with a standard deviation of 0.01\n",
      "at n=5.00 d=8.00 : 0.87 accuracy with a standard deviation of 0.01\n",
      "at n=8.00 d=2.00 : 0.71 accuracy with a standard deviation of 0.02\n",
      "at n=8.00 d=3.00 : 0.76 accuracy with a standard deviation of 0.01\n",
      "at n=8.00 d=5.00 : 0.84 accuracy with a standard deviation of 0.01\n",
      "at n=8.00 d=8.00 : 0.88 accuracy with a standard deviation of 0.01\n",
      "at n=10.00 d=2.00 : 0.71 accuracy with a standard deviation of 0.00\n",
      "at n=10.00 d=3.00 : 0.77 accuracy with a standard deviation of 0.01\n",
      "at n=10.00 d=5.00 : 0.83 accuracy with a standard deviation of 0.02\n",
      "at n=10.00 d=8.00 : 0.88 accuracy with a standard deviation of 0.01\n"
     ]
    }
   ],
   "source": [
    "from sklearn.model_selection import cross_val_score\n",
    "results = []\n",
    "estimators = [1, 3, 5, 8, 10]\n",
    "depth_options = [2, 3, 5, 8]\n",
    "\n",
    "\n",
    "for val in estimators:\n",
    "    for depth in depth_options:\n",
    "        model = RandomForestClassifier(n_estimators=val, max_depth=depth)\n",
    "        model.fit(X_train, y_train)\n",
    "        scores = cross_val_score(model, X_train, y_train, cv=5)\n",
    "        results.append((val, depth, scores.mean(), scores.std()))\n",
    "        print(\"at n=%0.2f d=%0.2f : %0.2f accuracy with a standard deviation of %0.2f\" % (val, depth, scores.mean(), scores.std()))"
   ]
  },
  {
   "cell_type": "code",
   "execution_count": 118,
   "metadata": {},
   "outputs": [
    {
     "name": "stdout",
     "output_type": "stream",
     "text": [
      "(10, 8, 0.8806474513619797, 0.008181277319454958)\n"
     ]
    }
   ],
   "source": [
    "# print(results)\n",
    "# sorted = results\n",
    "# sorted.sort(key=lambda x: x[2], reverse=True)\n",
    "# print(sorted[:5])\n",
    "max_tuple = max(results, key=lambda x: x[2])\n",
    "print(max_tuple)"
   ]
  },
  {
   "cell_type": "code",
   "execution_count": 98,
   "metadata": {},
   "outputs": [
    {
     "data": {
      "text/plain": [
       "RandomForestClassifier(max_depth=8, n_estimators=10)"
      ]
     },
     "execution_count": 98,
     "metadata": {},
     "output_type": "execute_result"
    }
   ],
   "source": [
    "model = RandomForestClassifier(n_estimators=10, max_depth=8)\n",
    "model.fit(X_train, y_train)"
   ]
  },
  {
   "cell_type": "markdown",
   "metadata": {},
   "source": [
    "### Evaluate Your Model\n",
    "\n",
    "Evaluate your model accuracy according to the following metrics:\n",
    "\n",
    "1. Accuracy\n",
    "2. F1 Score\n",
    "3. Confusion Matrix\n",
    "4. ROC/AUC"
   ]
  },
  {
   "cell_type": "code",
   "execution_count": null,
   "metadata": {},
   "outputs": [
    {
     "name": "stdout",
     "output_type": "stream",
     "text": [
      " Accuracy: 0.8755074424898511\n",
      " F1 Score: 0.8092951480931638\n",
      " ROC/AUC: 0.9747536387386593\n"
     ]
    },
    {
     "data": {
      "text/plain": [
       "<sklearn.metrics._plot.confusion_matrix.ConfusionMatrixDisplay at 0x7fe90a667460>"
      ]
     },
     "execution_count": 99,
     "metadata": {},
     "output_type": "execute_result"
    },
    {
     "data": {
      "image/png": "[encoded data removed]",
      "text/plain": [
       "<Figure size 432x288 with 2 Axes>"
      ]
     },
     "metadata": {
      "needs_background": "light"
     },
     "output_type": "display_data"
    }
   ],
   "source": [
    "from sklearn.metrics import accuracy_score,  f1_score, roc_auc_score, confusion_matrix, ConfusionMatrixDisplay\n",
    "y_pred = model.predict(X_test)\n",
    "\n",
    "accuracy = accuracy_score(y_test, y_pred)\n",
    "f1 = f1_score(y_test, y_pred, average='macro')\n",
    "\n",
    "y_pred_prob = model.predict_proba(X_test)\n",
    "ROC_AUC = roc_auc_score(y_test, y_pred_prob, multi_class='ovr')\n",
    "\n",
    "print(f\" Accuracy: {accuracy}\\n F1 Score: {f1}\\n ROC/AUC: {ROC_AUC}\")\n",
    "cm = confusion_matrix(y_test, y_pred)\n",
    "disp = ConfusionMatrixDisplay(confusion_matrix=cm)\n",
    "disp.plot()\n"
   ]
  },
  {
   "cell_type": "markdown",
   "metadata": {},
   "source": [
    "## Part 3: Predict the Ongoing Resolution of a Real Netflix Session\n",
    "\n",
    "Now that you have your model, it's time to put it in practice!\n",
    "\n",
    "Use a preprocessed Netflix video session to infer **and plot** the resolution at 10-second time intervals."
   ]
  },
  {
   "cell_type": "code",
   "execution_count": 117,
   "metadata": {},
   "outputs": [
    {
     "name": "stderr",
     "output_type": "stream",
     "text": [
      "/usr/lib/python3/dist-packages/matplotlib/cbook/__init__.py:1402: FutureWarning: Support for multi-dimensional indexing (e.g. `obj[:, None]`) is deprecated and will be removed in a future version.  Convert to a numpy array before indexing instead.\n",
      "  ndim = x[:, None].ndim\n",
      "/usr/lib/python3/dist-packages/matplotlib/axes/_base.py:276: FutureWarning: Support for multi-dimensional indexing (e.g. `obj[:, None]`) is deprecated and will be removed in a future version.  Convert to a numpy array before indexing instead.\n",
      "  x = x[:, np.newaxis]\n"
     ]
    },
    {
     "data": {
      "text/plain": [
       "[<matplotlib.lines.Line2D at 0x7fe90a87d370>]"
      ]
     },
     "execution_count": 117,
     "metadata": {},
     "output_type": "execute_result"
    },
    {
     "data": {
      "image/png": "[encoded data removed]",
      "text/plain": [
       "<Figure size 432x288 with 1 Axes>"
      ]
     },
     "metadata": {
      "needs_background": "light"
     },
     "output_type": "display_data"
    }
   ],
   "source": [
    "import matplotlib.pyplot as plt\n",
    "\n",
    "# only using unique values, so we have one resolution per 10 second time stamp\n",
    "testing = X_test.drop_duplicates(subset=['relative_timestamp'])\n",
    "testing = testing.sort_values(by='relative_timestamp', ascending=True)\n",
    "predition = model.predict(testing)\n",
    "plt.plot(testing['relative_timestamp'], predition)"
   ]
  }
 ],
 "metadata": {
  "colab": {
   "authorship_tag": "ABX9TyM0Cd1i3qtplCsVAB9qTjxA",
   "collapsed_sections": [],
   "name": "pcap_processing_solution.ipynb",
   "provenance": []
  },
  "kernelspec": {
   "display_name": "Python 3",
   "language": "python",
   "name": "python3"
  },
  "language_info": {
   "codemirror_mode": {
    "name": "ipython",
    "version": 3
   },
   "file_extension": ".py",
   "mimetype": "text/x-python",
   "name": "python",
   "nbconvert_exporter": "python",
   "pygments_lexer": "ipython3",
   "version": "3.8.10"
  }
 },
 "nbformat": 4,
 "nbformat_minor": 1
}
